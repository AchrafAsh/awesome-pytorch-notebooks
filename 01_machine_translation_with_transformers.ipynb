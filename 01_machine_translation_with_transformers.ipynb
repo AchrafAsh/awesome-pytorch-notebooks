{
  "nbformat": 4,
  "nbformat_minor": 0,
  "metadata": {
    "colab": {
      "name": "01_machine_translation_with_transformers.ipynb",
      "provenance": [],
      "authorship_tag": "ABX9TyPNUx1jD2ASiFSAVguetFrO",
      "include_colab_link": true
    },
    "kernelspec": {
      "name": "python3",
      "display_name": "Python 3"
    },
    "language_info": {
      "name": "python"
    }
  },
  "cells": [
    {
      "cell_type": "markdown",
      "metadata": {
        "id": "view-in-github",
        "colab_type": "text"
      },
      "source": [
        "<a href=\"https://colab.research.google.com/github/AchrafAsh/awesome-pytorch-notebooks/blob/main/01_machine_translation_with_transformers.ipynb\" target=\"_parent\"><img src=\"https://colab.research.google.com/assets/colab-badge.svg\" alt=\"Open In Colab\"/></a>"
      ]
    },
    {
      "cell_type": "markdown",
      "metadata": {
        "id": "LO924A6qHPU2"
      },
      "source": [
        "# Machine Translation with Transformers"
      ]
    },
    {
      "cell_type": "code",
      "metadata": {
        "id": "jcFwTVArGaA7"
      },
      "source": [
        "from typing import List\n",
        "\n",
        "import torch\n",
        "import torch.nn as nn\n",
        "import torch.nn.functional as F"
      ],
      "execution_count": null,
      "outputs": []
    },
    {
      "cell_type": "markdown",
      "metadata": {
        "id": "UbDqbBhGHVfS"
      },
      "source": [
        "## Vocabulary"
      ]
    },
    {
      "cell_type": "code",
      "metadata": {
        "id": "nYCMLrxcHXa_"
      },
      "source": [
        "class Vocab:\n",
        "    def __init__(self):\n",
        "        self.itos = {0: \"<PAD>\", 1: \"<UNK>\"}\n",
        "        self.stoi = {\"<PAD>\": 0, \"<UNK>\": 1}\n",
        "\n",
        "    def build_vocab(self, sentences: List[str]):\n",
        "        idx = 0\n",
        "        for sentence in sentences:\n",
        "            # TODO: tokenize the sentence\n",
        "            # TODO: add the word in itos and stoi if not already\n",
        "            # TODO: increment the index\n",
        "        print(f\"Done ✅. Added {idx} words.\")\n",
        "    \n",
        "    def encode(self, sentence: str):\n",
        "        tokens = []\n",
        "        for w in sentence:\n",
        "            if w not in self.stoi:\n",
        "                tokens.append(4) # unknown word\n",
        "            else:\n",
        "                tokens.append(self.stoi[w])\n",
        "        \n",
        "        return tokens\n",
        "    \n",
        "    def decode(self, tensor: torch.tensor):\n",
        "        pass"
      ],
      "execution_count": null,
      "outputs": []
    },
    {
      "cell_type": "code",
      "metadata": {
        "id": "aO_eoDdaHXq5"
      },
      "source": [
        ""
      ],
      "execution_count": null,
      "outputs": []
    },
    {
      "cell_type": "markdown",
      "metadata": {
        "id": "fT59YamRGgn5"
      },
      "source": [
        "## Architecture\n",
        "\n",
        "- Embeddings → encode one-hot-encoded words as continuous vectors to catch semantic (might use pre-trained word2vec for that)\n",
        "- Transformer Block stacked"
      ]
    },
    {
      "cell_type": "code",
      "metadata": {
        "id": "6TL1qyXLG91p"
      },
      "source": [
        "class Translator(nn.Module):\n",
        "    def __init__(self, src_vocab_size, trgt_vocab_size):\n",
        "    \n",
        "    def forward(self, x)"
      ],
      "execution_count": null,
      "outputs": []
    },
    {
      "cell_type": "code",
      "metadata": {
        "id": "X8aTBPcKHU1H"
      },
      "source": [
        ""
      ],
      "execution_count": null,
      "outputs": []
    }
  ]
}